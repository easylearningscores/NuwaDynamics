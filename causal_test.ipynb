{
 "cells": [
  {
   "cell_type": "code",
   "execution_count": 4,
   "metadata": {},
   "outputs": [
    {
     "data": {
      "text/plain": [
       "45.6485710144043"
      ]
     },
     "execution_count": 4,
     "metadata": {},
     "output_type": "execute_result"
    }
   ],
   "source": [
    "import torch\n",
    "import torch.nn as nn\n",
    "import torch.nn.functional as F\n",
    "\n",
    "# 定义一个基本的特征提取器\n",
    "class FeatureExtractor(nn.Module):\n",
    "    def __init__(self):\n",
    "        super(FeatureExtractor, self).__init__()\n",
    "        # 假设使用一个简单的全连接层代替复杂的神经网络骨干\n",
    "        self.fc = nn.Linear(256, 128)  # 假设输入特征维度为256，输出维度为128\n",
    "\n",
    "    def forward(self, x):\n",
    "        return self.fc(x)\n",
    "\n",
    "# 定义两个多层感知机（MLP）来生成因果和非因果特征\n",
    "class MLP(nn.Module):\n",
    "    def __init__(self, input_dim, output_dim):\n",
    "        super(MLP, self).__init__()\n",
    "        self.fc1 = nn.Linear(input_dim, output_dim)\n",
    "\n",
    "    def forward(self, x):\n",
    "        return self.fc1(x)\n",
    "\n",
    "# 用于计算 InfoNCE 损失的函数\n",
    "def info_nce_loss(features, labels, weight_matrix):\n",
    "    # 计算 T^c(f^c, y) = f^c W^c y\n",
    "    scores = torch.matmul(features, weight_matrix)\n",
    "    scores = torch.matmul(scores, labels.T)\n",
    "    # 计算 InfoNCE 损失\n",
    "    nce_loss = -torch.mean(torch.diag(scores) - torch.logsumexp(scores, dim=1))\n",
    "    return nce_loss\n",
    "\n",
    "# 实例化模型和权重矩阵\n",
    "feature_extractor = FeatureExtractor()\n",
    "mlp_causal = MLP(128, 64)  # 假设因果特征维度为64\n",
    "mlp_noncausal = MLP(128, 64)  # 假设非因果特征维度为64\n",
    "weight_matrix = torch.randn(64, 64)  # 假设权重矩阵的维度\n",
    "\n",
    "# 假设输入和标签\n",
    "x = torch.randn(10, 256)  # 假设有10个样本，每个样本特征维度为256\n",
    "y = torch.randn(10, 64)  # 假设有10个标签，每个标签维度为64\n",
    "\n",
    "# 特征提取\n",
    "z = feature_extractor(x)\n",
    "\n",
    "# 生成因果和非因果特征\n",
    "f_c = mlp_causal(z)\n",
    "f_n = mlp_noncausal(z)\n",
    "\n",
    "# 计算 InfoNCE 损失\n",
    "loss = info_nce_loss(f_c, y, weight_matrix)\n",
    "\n",
    "loss.item()  # 返回损失的数值"
   ]
  },
  {
   "cell_type": "code",
   "execution_count": null,
   "metadata": {},
   "outputs": [],
   "source": []
  }
 ],
 "metadata": {
  "kernelspec": {
   "display_name": "base",
   "language": "python",
   "name": "python3"
  },
  "language_info": {
   "codemirror_mode": {
    "name": "ipython",
    "version": 3
   },
   "file_extension": ".py",
   "mimetype": "text/x-python",
   "name": "python",
   "nbconvert_exporter": "python",
   "pygments_lexer": "ipython3",
   "version": "3.8.5"
  },
  "orig_nbformat": 4
 },
 "nbformat": 4,
 "nbformat_minor": 2
}
